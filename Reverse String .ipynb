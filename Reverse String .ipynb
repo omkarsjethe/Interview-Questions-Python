{
 "cells": [
  {
   "cell_type": "code",
   "execution_count": 1,
   "id": "41679ad2",
   "metadata": {},
   "outputs": [
    {
     "name": "stdout",
     "output_type": "stream",
     "text": [
      "The original string is : abcdefghijklmnopqrstuvwxyz\n",
      "The reversed string(using loops) is : zyxwvutsrqponmlkjihgfedcba\n"
     ]
    }
   ],
   "source": [
    "def reverse(s):\n",
    "\tstr = \"\"\n",
    "\tfor i in s:\n",
    "\t\tstr = i + str\n",
    "\treturn str\n",
    "\n",
    "s = \"abcdefghijklmnopqrstuvwxyz\"\n",
    "\n",
    "print(\"The original string is : \", end=\"\")\n",
    "print(s)\n",
    "\n",
    "print(\"The reversed string(using loops) is : \", end=\"\")\n",
    "print(reverse(s))\n"
   ]
  },
  {
   "cell_type": "code",
   "execution_count": 2,
   "id": "b91abe3c",
   "metadata": {},
   "outputs": [
    {
     "name": "stdout",
     "output_type": "stream",
     "text": [
      "The original string is : abcdefghijklmnopqrstuvwxyz\n",
      "The reversed string(using recursion) is : zyxwvutsrqponmlkjihgfedcba\n"
     ]
    }
   ],
   "source": [
    "def reverse(s):\n",
    "\tif len(s) == 0:\n",
    "\t\treturn s\n",
    "\telse:\n",
    "\t\treturn reverse(s[1:]) + s[0]\n",
    "\n",
    "\n",
    "s = \"abcdefghijklmnopqrstuvwxyz\"\n",
    "\n",
    "print(\"The original string is : \", end=\"\")\n",
    "print(s)\n",
    "\n",
    "print(\"The reversed string(using recursion) is : \", end=\"\")\n",
    "print(reverse(s))\n"
   ]
  },
  {
   "cell_type": "code",
   "execution_count": 3,
   "id": "96c4c43e",
   "metadata": {},
   "outputs": [
    {
     "name": "stdout",
     "output_type": "stream",
     "text": [
      "The original string is : abcdefghijklmnopqrstuvwxyz\n",
      "The reversed string(using stack) is : zyxwvutsrqponmlkjihgfedcba\n"
     ]
    }
   ],
   "source": [
    "# Function to create an empty stack. It\n",
    "# initializes size of stack as 0\n",
    "def createStack():\n",
    "\tstack = []\n",
    "\treturn stack\n",
    "\n",
    "# Function to determine the size of the stack\n",
    "def size(stack):\n",
    "\treturn len(stack)\n",
    "\n",
    "# Stack is empty if the size is 0\n",
    "def isEmpty(stack):\n",
    "\tif size(stack) == 0:\n",
    "\t\treturn true\n",
    "\n",
    "# Function to add an item to stack . It\n",
    "# increases size by 1\n",
    "def push(stack, item):\n",
    "\tstack.append(item)\n",
    "\n",
    "# Function to remove an item from stack.\n",
    "# It decreases size by 1\n",
    "def pop(stack):\n",
    "\tif isEmpty(stack):\n",
    "\t\treturn\n",
    "\treturn stack.pop()\n",
    "\n",
    "# A stack based function to reverse a string\n",
    "def reverse(string):\n",
    "\tn = len(string)\n",
    "\n",
    "\t# Create a empty stack\n",
    "\tstack = createStack()\n",
    "\n",
    "\t# Push all characters of string to stack\n",
    "\tfor i in range(0, n, 1):\n",
    "\t\tpush(stack, string[i])\n",
    "\n",
    "\t# Making the string empty since all\n",
    "\t# characters are saved in stack\n",
    "\tstring = \"\"\n",
    "\n",
    "\t# Pop all characters of string and put\n",
    "\t# them back to string\n",
    "\tfor i in range(0, n, 1):\n",
    "\t\tstring += pop(stack)\n",
    "\n",
    "\treturn string\n",
    "\n",
    "\n",
    "# Driver code\n",
    "s = \"abcdefghijklmnopqrstuvwxyz\"\n",
    "print(\"The original string is : \", end=\"\")\n",
    "print(s)\n",
    "print(\"The reversed string(using stack) is : \", end=\"\")\n",
    "print(reverse(s))\n"
   ]
  },
  {
   "cell_type": "code",
   "execution_count": 4,
   "id": "22b597fa",
   "metadata": {},
   "outputs": [
    {
     "name": "stdout",
     "output_type": "stream",
     "text": [
      "The original string is : abcdefghijklmnopqrstuvwxyz\n",
      "The reversed string(using extended slice syntax) is : zyxwvutsrqponmlkjihgfedcba\n"
     ]
    }
   ],
   "source": [
    "def reverse(string):\n",
    "    string = string[::-1]\n",
    "    return string\n",
    " \n",
    "s = \"abcdefghijklmnopqrstuvwxyz\"\n",
    " \n",
    "print(\"The original string is : \", end=\"\")\n",
    "print(s)\n",
    " \n",
    "print(\"The reversed string(using extended slice syntax) is : \", end=\"\")\n",
    "print(reverse(s))"
   ]
  },
  {
   "cell_type": "code",
   "execution_count": 5,
   "id": "efe51d0e",
   "metadata": {},
   "outputs": [
    {
     "name": "stdout",
     "output_type": "stream",
     "text": [
      "The original string is : abcdefghijklmnopqrstuvwxyz\n",
      "The reversed string(using reversed) is : zyxwvutsrqponmlkjihgfedcba\n"
     ]
    }
   ],
   "source": [
    "def reverse(string):\n",
    "    string = \"\".join(reversed(string))\n",
    "    return string\n",
    " \n",
    "s = \"abcdefghijklmnopqrstuvwxyz\"\n",
    " \n",
    "print(\"The original string is : \", end=\"\")\n",
    "print(s)\n",
    " \n",
    "print(\"The reversed string(using reversed) is : \", end=\"\")\n",
    "print(reverse(s))"
   ]
  },
  {
   "cell_type": "code",
   "execution_count": 6,
   "id": "ae984b5f",
   "metadata": {},
   "outputs": [
    {
     "name": "stdout",
     "output_type": "stream",
     "text": [
      "The original string  is :  abcdefghijklmnopqrstuvwxyz\n",
      "The reversed string(using reversed) is :  zyxwvutsrqponmlkjihgfedcba\n"
     ]
    }
   ],
   "source": [
    "def reverse(string):\n",
    "    string = [string[i] for i in range(len(string)-1, -1, -1)]\n",
    "    return \"\".join(string)\n",
    " \n",
    "s = \"abcdefghijklmnopqrstuvwxyz\"\n",
    " \n",
    "print(\"The original string  is : \", s)\n",
    " \n",
    "print(\"The reversed string(using reversed) is : \", reverse(s))"
   ]
  },
  {
   "cell_type": "code",
   "execution_count": 7,
   "id": "d101fe8c",
   "metadata": {},
   "outputs": [
    {
     "name": "stdout",
     "output_type": "stream",
     "text": [
      "The original string  is :  abcdefghijklmnopqrstuvwxyz\n",
      "The reversed string(using reversed) is :  zyxwvutsrqponmlkjihgfedcba\n"
     ]
    }
   ],
   "source": [
    "def reverse(string):\n",
    "    string = list(string)\n",
    "    string.reverse()\n",
    "    return \"\".join(string)\n",
    " \n",
    "s = \"abcdefghijklmnopqrstuvwxyz\"\n",
    " \n",
    "print(\"The original string  is : \", s)\n",
    " \n",
    "print(\"The reversed string(using reversed) is : \", reverse(s))"
   ]
  },
  {
   "cell_type": "code",
   "execution_count": null,
   "id": "8bdddec7",
   "metadata": {},
   "outputs": [],
   "source": []
  }
 ],
 "metadata": {
  "kernelspec": {
   "display_name": "Python 3 (ipykernel)",
   "language": "python",
   "name": "python3"
  },
  "language_info": {
   "codemirror_mode": {
    "name": "ipython",
    "version": 3
   },
   "file_extension": ".py",
   "mimetype": "text/x-python",
   "name": "python",
   "nbconvert_exporter": "python",
   "pygments_lexer": "ipython3",
   "version": "3.11.5"
  }
 },
 "nbformat": 4,
 "nbformat_minor": 5
}
