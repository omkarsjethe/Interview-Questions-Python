{
 "cells": [
  {
   "cell_type": "markdown",
   "id": "5ee9812e",
   "metadata": {},
   "source": [
    "# Add the values in list using append method by taking user input "
   ]
  },
  {
   "cell_type": "code",
   "execution_count": 1,
   "id": "b20e5e5f",
   "metadata": {},
   "outputs": [
    {
     "name": "stdout",
     "output_type": "stream",
     "text": [
      "Enter the  how many numbers should be appended in list3\n",
      "enter the number1\n",
      "enter the number2\n",
      "enter the number3\n",
      "[1, 2, 3]\n"
     ]
    }
   ],
   "source": [
    "a=[]\n",
    "\n",
    "n=int(input(\"Enter the  how many numbers should be appended in list\"))\n",
    "\n",
    "for _ in range(n):\n",
    "    num =int(input(\"enter the number\"))\n",
    "    a.append(num)\n",
    "    \n",
    "print(a)"
   ]
  },
  {
   "cell_type": "code",
   "execution_count": null,
   "id": "b4b828f7",
   "metadata": {},
   "outputs": [],
   "source": []
  },
  {
   "cell_type": "code",
   "execution_count": null,
   "id": "392ac78c",
   "metadata": {},
   "outputs": [],
   "source": []
  }
 ],
 "metadata": {
  "kernelspec": {
   "display_name": "Python 3 (ipykernel)",
   "language": "python",
   "name": "python3"
  },
  "language_info": {
   "codemirror_mode": {
    "name": "ipython",
    "version": 3
   },
   "file_extension": ".py",
   "mimetype": "text/x-python",
   "name": "python",
   "nbconvert_exporter": "python",
   "pygments_lexer": "ipython3",
   "version": "3.11.5"
  }
 },
 "nbformat": 4,
 "nbformat_minor": 5
}
