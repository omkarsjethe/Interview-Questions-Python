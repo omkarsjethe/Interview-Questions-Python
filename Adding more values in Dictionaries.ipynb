{
 "cells": [
  {
   "cell_type": "markdown",
   "id": "398e76b8",
   "metadata": {},
   "source": [
    "# Add the values  in dictionaries using append method by taking user input"
   ]
  },
  {
   "cell_type": "code",
   "execution_count": 1,
   "id": "66d2ed3a",
   "metadata": {},
   "outputs": [
    {
     "name": "stdout",
     "output_type": "stream",
     "text": [
      "Enter the number of values to bt inserted in in Dictionary3\n",
      "Enter the index number 1\n",
      "Enter the nameOmkar\n",
      "Enter the index number 2\n",
      "Enter the nameYash\n",
      "Enter the index number 3\n",
      "Enter the nameAnushree\n",
      "{1: 'Omkar', 2: 'Yash', 3: 'Anushree'}\n"
     ]
    }
   ],
   "source": [
    "a={}\n",
    "\n",
    "n=int(input(\"Enter the number of values to bt inserted in in Dictionary\"))\n",
    "\n",
    "for _ in range(n):\n",
    "    key=int(input(\"Enter the index number \"))\n",
    "    value=input(\"Enter the name\" )\n",
    "    a[key]=value\n",
    "\n",
    "print(a)"
   ]
  },
  {
   "cell_type": "code",
   "execution_count": null,
   "id": "db02bdf7",
   "metadata": {},
   "outputs": [],
   "source": []
  }
 ],
 "metadata": {
  "kernelspec": {
   "display_name": "Python 3 (ipykernel)",
   "language": "python",
   "name": "python3"
  },
  "language_info": {
   "codemirror_mode": {
    "name": "ipython",
    "version": 3
   },
   "file_extension": ".py",
   "mimetype": "text/x-python",
   "name": "python",
   "nbconvert_exporter": "python",
   "pygments_lexer": "ipython3",
   "version": "3.11.5"
  }
 },
 "nbformat": 4,
 "nbformat_minor": 5
}
